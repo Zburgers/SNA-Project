{
 "cells": [
  {
   "cell_type": "code",
   "execution_count": 1,
   "metadata": {},
   "outputs": [],
   "source": [
    "# Import necessary libraries\n",
    "import networkx as nx\n",
    "import matplotlib.pyplot as plt\n",
    "\n",
    "# Load the dataset into a directed graph\n",
    "file_path = \"Email-EuAll.txt\"\n",
    "G = nx.read_edgelist(file_path, create_using=nx.DiGraph(), nodetype=int)\n"
   ]
  },
  {
   "cell_type": "code",
   "execution_count": null,
   "metadata": {},
   "outputs": [
    {
     "name": "stdout",
     "output_type": "stream",
     "text": [
      "Graph loaded successfully with 265214 nodes and 420045 edges.\n"
     ]
    }
   ],
   "source": [
    "\n",
    "print(f\"Graph loaded successfully with {G.number_of_nodes()} nodes and {G.number_of_edges()} edges.\")\n",
    "\n",
    "# Visualize the graph (optional, for large graphs this may not be feasible)\n",
    "plt.figure(figsize=(10, 6))\n",
    "nx.draw(G, node_size=10, edge_color='gray', with_labels=False)\n",
    "plt.title(\"Visualization of the Email Network\")\n",
    "plt.show()\n",
    "\n"
   ]
  },
  {
   "cell_type": "code",
   "execution_count": null,
   "metadata": {},
   "outputs": [],
   "source": [
    "# ------------------------------\n",
    "# Katz Centrality\n",
    "# ------------------------------\n",
    "print(\"\\nCalculating Katz Centrality...\")\n",
    "katz_centrality = nx.katz_centrality(G, alpha=0.01, max_iter=1000)  # alpha < 1/lambda_max\n",
    "\n",
    "# Highlight top 5 nodes by Katz Centrality\n",
    "top_katz = sorted(katz_centrality.items(), key=lambda x: x[1], reverse=True)[:5]\n",
    "print(\"Top 5 Nodes by Katz Centrality:\")\n",
    "for node, centrality in top_katz:\n",
    "    print(f\"Node {node}: {centrality:.4f}\")\n",
    "\n"
   ]
  },
  {
   "cell_type": "code",
   "execution_count": null,
   "metadata": {},
   "outputs": [],
   "source": [
    "# ------------------------------\n",
    "# PageRank Centrality\n",
    "# ------------------------------\n",
    "print(\"\\nCalculating PageRank Centrality...\")\n",
    "pagerank_centrality = nx.pagerank(G, alpha=0.85)\n",
    "\n",
    "# Highlight top 5 nodes by PageRank Centrality\n",
    "top_pagerank = sorted(pagerank_centrality.items(), key=lambda x: x[1], reverse=True)[:5]\n",
    "print(\"Top 5 Nodes by PageRank Centrality:\")\n",
    "for node, centrality in top_pagerank:\n",
    "    print(f\"Node {node}: {centrality:.4f}\")\n",
    "\n"
   ]
  },
  {
   "cell_type": "code",
   "execution_count": null,
   "metadata": {},
   "outputs": [],
   "source": [
    "# ------------------------------\n",
    "# Local Clustering Coefficient\n",
    "# ------------------------------\n",
    "print(\"\\nCalculating Local Clustering Coefficients...\")\n",
    "local_clustering = nx.clustering(G.to_undirected())  # Convert to undirected for clustering\n",
    "\n",
    "# Highlight top 5 nodes by Local Clustering Coefficient\n",
    "top_local_clustering = sorted(local_clustering.items(), key=lambda x: x[1], reverse=True)[:5]\n",
    "print(\"Top 5 Nodes by Local Clustering Coefficient:\")\n",
    "for node, coeff in top_local_clustering:\n",
    "    print(f\"Node {node}: {coeff:.4f}\")\n",
    "\n"
   ]
  },
  {
   "cell_type": "code",
   "execution_count": null,
   "metadata": {},
   "outputs": [],
   "source": [
    "# ------------------------------\n",
    "# Global Clustering Coefficient\n",
    "# ------------------------------\n",
    "global_clustering = nx.average_clustering(G.to_undirected())\n",
    "print(f\"\\nGlobal Clustering Coefficient: {global_clustering:.4f}\")\n",
    "\n"
   ]
  },
  {
   "cell_type": "code",
   "execution_count": null,
   "metadata": {},
   "outputs": [],
   "source": [
    "# ------------------------------\n",
    "# Summary Table of Results\n",
    "# ------------------------------\n",
    "print(\"\\nSummary of Results:\")\n",
    "print(\"-\" * 50)\n",
    "print(f\"{'Metric':<25}{'Top Node':<10}{'Value':<10}\")\n",
    "print(\"-\" * 50)\n",
    "print(f\"Katz Centrality{'':<10}{top_katz[0][0]:<10}{top_katz[0][1]:.4f}\")\n",
    "print(f\"PageRank Centrality{'':<10}{top_pagerank[0][0]:<10}{top_pagerank[0][1]:.4f}\")\n",
    "print(f\"Local Clustering{'':<10}{top_local_clustering[0][0]:<10}{top_local_clustering[0][1]:.4f}\")\n",
    "print(f\"Global Clustering{'':<10}{'N/A':<10}{global_clustering:.4f}\")"
   ]
  }
 ],
 "metadata": {
  "kernelspec": {
   "display_name": "Python 3",
   "language": "python",
   "name": "python3"
  },
  "language_info": {
   "codemirror_mode": {
    "name": "ipython",
    "version": 3
   },
   "file_extension": ".py",
   "mimetype": "text/x-python",
   "name": "python",
   "nbconvert_exporter": "python",
   "pygments_lexer": "ipython3",
   "version": "3.11.4"
  }
 },
 "nbformat": 4,
 "nbformat_minor": 2
}
